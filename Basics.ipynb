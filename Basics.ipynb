{
 "cells": [
  {
   "cell_type": "markdown",
   "metadata": {
    "collapsed": true
   },
   "source": [
    "# Predict the total number of bikes people rented in a given hour using decision trees and random forests"
   ]
  },
  {
   "cell_type": "markdown",
   "metadata": {},
   "source": [
    "## 1. Read in data "
   ]
  },
  {
   "cell_type": "code",
   "execution_count": 17,
   "metadata": {
    "collapsed": false
   },
   "outputs": [
    {
     "name": "stdout",
     "output_type": "stream",
     "text": [
      "<class 'pandas.core.frame.DataFrame'>\n",
      "RangeIndex: 17379 entries, 0 to 17378\n",
      "Data columns (total 17 columns):\n",
      "instant       17379 non-null int64\n",
      "dteday        17379 non-null object\n",
      "season        17379 non-null int64\n",
      "yr            17379 non-null int64\n",
      "mnth          17379 non-null int64\n",
      "hr            17379 non-null int64\n",
      "holiday       17379 non-null int64\n",
      "weekday       17379 non-null int64\n",
      "workingday    17379 non-null int64\n",
      "weathersit    17379 non-null int64\n",
      "temp          17379 non-null float64\n",
      "atemp         17379 non-null float64\n",
      "hum           17379 non-null float64\n",
      "windspeed     17379 non-null float64\n",
      "casual        17379 non-null int64\n",
      "registered    17379 non-null int64\n",
      "cnt           17379 non-null int64\n",
      "dtypes: float64(4), int64(12), object(1)\n",
      "memory usage: 2.3+ MB\n",
      "None\n"
     ]
    },
    {
     "data": {
      "text/html": [
       "<div>\n",
       "<style scoped>\n",
       "    .dataframe tbody tr th:only-of-type {\n",
       "        vertical-align: middle;\n",
       "    }\n",
       "\n",
       "    .dataframe tbody tr th {\n",
       "        vertical-align: top;\n",
       "    }\n",
       "\n",
       "    .dataframe thead th {\n",
       "        text-align: right;\n",
       "    }\n",
       "</style>\n",
       "<table border=\"1\" class=\"dataframe\">\n",
       "  <thead>\n",
       "    <tr style=\"text-align: right;\">\n",
       "      <th></th>\n",
       "      <th>instant</th>\n",
       "      <th>dteday</th>\n",
       "      <th>season</th>\n",
       "      <th>yr</th>\n",
       "      <th>mnth</th>\n",
       "      <th>hr</th>\n",
       "      <th>holiday</th>\n",
       "      <th>weekday</th>\n",
       "      <th>workingday</th>\n",
       "      <th>weathersit</th>\n",
       "      <th>temp</th>\n",
       "      <th>atemp</th>\n",
       "      <th>hum</th>\n",
       "      <th>windspeed</th>\n",
       "      <th>casual</th>\n",
       "      <th>registered</th>\n",
       "      <th>cnt</th>\n",
       "    </tr>\n",
       "  </thead>\n",
       "  <tbody>\n",
       "    <tr>\n",
       "      <th>0</th>\n",
       "      <td>1</td>\n",
       "      <td>2011-01-01</td>\n",
       "      <td>1</td>\n",
       "      <td>0</td>\n",
       "      <td>1</td>\n",
       "      <td>0</td>\n",
       "      <td>0</td>\n",
       "      <td>6</td>\n",
       "      <td>0</td>\n",
       "      <td>1</td>\n",
       "      <td>0.24</td>\n",
       "      <td>0.2879</td>\n",
       "      <td>0.81</td>\n",
       "      <td>0.0</td>\n",
       "      <td>3</td>\n",
       "      <td>13</td>\n",
       "      <td>16</td>\n",
       "    </tr>\n",
       "    <tr>\n",
       "      <th>1</th>\n",
       "      <td>2</td>\n",
       "      <td>2011-01-01</td>\n",
       "      <td>1</td>\n",
       "      <td>0</td>\n",
       "      <td>1</td>\n",
       "      <td>1</td>\n",
       "      <td>0</td>\n",
       "      <td>6</td>\n",
       "      <td>0</td>\n",
       "      <td>1</td>\n",
       "      <td>0.22</td>\n",
       "      <td>0.2727</td>\n",
       "      <td>0.80</td>\n",
       "      <td>0.0</td>\n",
       "      <td>8</td>\n",
       "      <td>32</td>\n",
       "      <td>40</td>\n",
       "    </tr>\n",
       "    <tr>\n",
       "      <th>2</th>\n",
       "      <td>3</td>\n",
       "      <td>2011-01-01</td>\n",
       "      <td>1</td>\n",
       "      <td>0</td>\n",
       "      <td>1</td>\n",
       "      <td>2</td>\n",
       "      <td>0</td>\n",
       "      <td>6</td>\n",
       "      <td>0</td>\n",
       "      <td>1</td>\n",
       "      <td>0.22</td>\n",
       "      <td>0.2727</td>\n",
       "      <td>0.80</td>\n",
       "      <td>0.0</td>\n",
       "      <td>5</td>\n",
       "      <td>27</td>\n",
       "      <td>32</td>\n",
       "    </tr>\n",
       "    <tr>\n",
       "      <th>3</th>\n",
       "      <td>4</td>\n",
       "      <td>2011-01-01</td>\n",
       "      <td>1</td>\n",
       "      <td>0</td>\n",
       "      <td>1</td>\n",
       "      <td>3</td>\n",
       "      <td>0</td>\n",
       "      <td>6</td>\n",
       "      <td>0</td>\n",
       "      <td>1</td>\n",
       "      <td>0.24</td>\n",
       "      <td>0.2879</td>\n",
       "      <td>0.75</td>\n",
       "      <td>0.0</td>\n",
       "      <td>3</td>\n",
       "      <td>10</td>\n",
       "      <td>13</td>\n",
       "    </tr>\n",
       "    <tr>\n",
       "      <th>4</th>\n",
       "      <td>5</td>\n",
       "      <td>2011-01-01</td>\n",
       "      <td>1</td>\n",
       "      <td>0</td>\n",
       "      <td>1</td>\n",
       "      <td>4</td>\n",
       "      <td>0</td>\n",
       "      <td>6</td>\n",
       "      <td>0</td>\n",
       "      <td>1</td>\n",
       "      <td>0.24</td>\n",
       "      <td>0.2879</td>\n",
       "      <td>0.75</td>\n",
       "      <td>0.0</td>\n",
       "      <td>0</td>\n",
       "      <td>1</td>\n",
       "      <td>1</td>\n",
       "    </tr>\n",
       "  </tbody>\n",
       "</table>\n",
       "</div>"
      ],
      "text/plain": [
       "   instant      dteday  season  yr  mnth  hr  holiday  weekday  workingday  \\\n",
       "0        1  2011-01-01       1   0     1   0        0        6           0   \n",
       "1        2  2011-01-01       1   0     1   1        0        6           0   \n",
       "2        3  2011-01-01       1   0     1   2        0        6           0   \n",
       "3        4  2011-01-01       1   0     1   3        0        6           0   \n",
       "4        5  2011-01-01       1   0     1   4        0        6           0   \n",
       "\n",
       "   weathersit  temp   atemp   hum  windspeed  casual  registered  cnt  \n",
       "0           1  0.24  0.2879  0.81        0.0       3          13   16  \n",
       "1           1  0.22  0.2727  0.80        0.0       8          32   40  \n",
       "2           1  0.22  0.2727  0.80        0.0       5          27   32  \n",
       "3           1  0.24  0.2879  0.75        0.0       3          10   13  \n",
       "4           1  0.24  0.2879  0.75        0.0       0           1    1  "
      ]
     },
     "execution_count": 17,
     "metadata": {},
     "output_type": "execute_result"
    }
   ],
   "source": [
    "# read in data\n",
    "import numpy as np\n",
    "import pandas as pd\n",
    "bike_rentals = pd.read_csv('bike_rental_hour.csv')\n",
    "\n",
    "print(bike_rentals.info())\n",
    "bike_rentals.head(5)"
   ]
  },
  {
   "cell_type": "code",
   "execution_count": 7,
   "metadata": {
    "collapsed": false
   },
   "outputs": [
    {
     "data": {
      "text/plain": [
       "<matplotlib.text.Text at 0x7f15b7f55390>"
      ]
     },
     "execution_count": 7,
     "metadata": {},
     "output_type": "execute_result"
    },
    {
     "data": {
      "image/png": "[encoded data removed]",
      "text/plain": [
       "<matplotlib.figure.Figure at 0x7f15b8156780>"
      ]
     },
     "metadata": {},
     "output_type": "display_data"
    }
   ],
   "source": [
    "# total rentals distributin \n",
    "import matplotlib.pyplot as plt\n",
    "%matplotlib inline\n",
    "fig = plt.figure(1)\n",
    "plt.hist(bike_rentals['cnt'], bins=20)\n",
    "plt.xlabel('total bike rentals in one hour')\n",
    "plt.title('Histogram of total bike rentals')\n"
   ]
  },
  {
   "cell_type": "code",
   "execution_count": 15,
   "metadata": {
    "collapsed": false
   },
   "outputs": [
    {
     "name": "stdout",
     "output_type": "stream",
     "text": [
      "instant       0\n",
      "dteday        0\n",
      "season        0\n",
      "yr            0\n",
      "mnth          0\n",
      "hr            0\n",
      "holiday       0\n",
      "weekday       0\n",
      "workingday    0\n",
      "weathersit    0\n",
      "temp          0\n",
      "atemp         0\n",
      "hum           0\n",
      "windspeed     0\n",
      "casual        0\n",
      "registered    0\n",
      "cnt           0\n",
      "dtype: int64\n",
      "hum          -0.322911\n",
      "weathersit   -0.142426\n",
      "holiday      -0.030927\n",
      "weekday       0.026900\n",
      "workingday    0.030284\n",
      "windspeed     0.093234\n",
      "mnth          0.120638\n",
      "season        0.178056\n",
      "yr            0.250495\n",
      "instant       0.278379\n",
      "hr            0.394071\n",
      "atemp         0.400929\n",
      "temp          0.404772\n",
      "casual        0.694564\n",
      "registered    0.972151\n",
      "cnt           1.000000\n",
      "Name: cnt, dtype: float64\n"
     ]
    }
   ],
   "source": [
    "print(bike_rentals.isnull().sum())\n",
    "# correlations of each column with total bike rentals(cnt)\n",
    "correlations = bike_rentals.corr()['cnt'].sort_values()\n",
    "print(correlations)"
   ]
  },
  {
   "cell_type": "markdown",
   "metadata": {},
   "source": [
    "### No null values in the dataframe. For the correlation coefficients, we should discard \"casual\" and \"registered\" as they are subsets of \"cnt\""
   ]
  },
  {
   "cell_type": "markdown",
   "metadata": {},
   "source": [
    "## 2. Convert some of the feature columns"
   ]
  },
  {
   "cell_type": "code",
   "execution_count": 18,
   "metadata": {
    "collapsed": false
   },
   "outputs": [
    {
     "data": {
      "text/plain": [
       "2    4375\n",
       "3    4368\n",
       "1    4360\n",
       "4    4276\n",
       "Name: time_label, dtype: int64"
      ]
     },
     "execution_count": 18,
     "metadata": {},
     "output_type": "execute_result"
    }
   ],
   "source": [
    "# convert hour to morning (1), afternoon (2), evening (3), and night (4)\n",
    "def assign_label(hour):\n",
    "    if hour in range(6,12):\n",
    "        return 1\n",
    "    if hour in range(12, 18):\n",
    "        return 2\n",
    "    if hour in range(18, 24):\n",
    "        return 3\n",
    "    if hour in range(0, 6):\n",
    "        return 4\n",
    "bike_rentals['time_label'] = bike_rentals['hr'].apply(assign_label)\n",
    "bike_rentals['time_label'].value_counts()\n",
    "        "
   ]
  },
  {
   "cell_type": "markdown",
   "metadata": {},
   "source": [
    "## 3. Split data into training set and test set. Select mean absolute error as the error metric."
   ]
  },
  {
   "cell_type": "code",
   "execution_count": 19,
   "metadata": {
    "collapsed": false
   },
   "outputs": [
    {
     "name": "stdout",
     "output_type": "stream",
     "text": [
      "(13903, 18)\n",
      "(3476, 18)\n"
     ]
    }
   ],
   "source": [
    "stop_row = int(bike_rentals.shape[0] * 0.8)\n",
    "train = bike_rentals.sample(frac=0.8)\n",
    "test = bike_rentals.loc[~bike_rentals.index.isin(train.index)]\n",
    "print(train.shape)\n",
    "print(test.shape)"
   ]
  },
  {
   "cell_type": "markdown",
   "metadata": {},
   "source": [
    "## 4. Select columns as features and target and train a Linear Regression model"
   ]
  },
  {
   "cell_type": "code",
   "execution_count": 33,
   "metadata": {
    "collapsed": true
   },
   "outputs": [],
   "source": [
    "features = ['season', 'yr', 'mnth', 'holiday', 'weekday',\n",
    "       'workingday', 'weathersit', 'temp', 'atemp', 'hum', 'windspeed', 'time_label']"
   ]
  },
  {
   "cell_type": "code",
   "execution_count": 26,
   "metadata": {
    "collapsed": false
   },
   "outputs": [
    {
     "data": {
      "text/plain": [
       "<matplotlib.axes._subplots.AxesSubplot at 0x7f15afecd940>"
      ]
     },
     "execution_count": 26,
     "metadata": {},
     "output_type": "execute_result"
    },
    {
     "data": {
      "image/png": "[encoded data removed]",
      "text/plain": [
       "<matplotlib.figure.Figure at 0x7f15afe9eeb8>"
      ]
     },
     "metadata": {},
     "output_type": "display_data"
    }
   ],
   "source": [
    "import seaborn as sns\n",
    "fig = plt.figure(2)\n",
    "sns.heatmap(bike_rentals[features].corr())"
   ]
  },
  {
   "cell_type": "code",
   "execution_count": 34,
   "metadata": {
    "collapsed": false
   },
   "outputs": [],
   "source": [
    "features.remove('atemp')"
   ]
  },
  {
   "cell_type": "code",
   "execution_count": 35,
   "metadata": {
    "collapsed": false
   },
   "outputs": [],
   "source": [
    "features.remove('season')"
   ]
  },
  {
   "cell_type": "markdown",
   "metadata": {},
   "source": [
    "### Remove columns 'season' as it correlates highly with month. Remove 'atemp' as it sort of duplicates 'temp'"
   ]
  },
  {
   "cell_type": "code",
   "execution_count": 37,
   "metadata": {
    "collapsed": false
   },
   "outputs": [
    {
     "name": "stdout",
     "output_type": "stream",
     "text": [
      "['yr', 'mnth', 'holiday', 'weekday', 'workingday', 'weathersit', 'temp', 'hum', 'windspeed', 'time_label'] cnt\n"
     ]
    }
   ],
   "source": [
    "target = 'cnt'\n",
    "print(features, target)"
   ]
  },
  {
   "cell_type": "code",
   "execution_count": 39,
   "metadata": {
    "collapsed": false
   },
   "outputs": [
    {
     "name": "stdout",
     "output_type": "stream",
     "text": [
      "103.97124042208331\n"
     ]
    }
   ],
   "source": [
    "# fit a LInear Regression model\n",
    "from sklearn.linear_model import LinearRegression\n",
    "from sklearn.metrics import mean_absolute_error\n",
    "model = LinearRegression()\n",
    "model.fit(train[features], train[target])\n",
    "predictions = model.predict(test[features])\n",
    "mae = mean_absolute_error(test[target], predictions)\n",
    "print(mae)\n"
   ]
  },
  {
   "cell_type": "markdown",
   "metadata": {},
   "source": [
    "### A linear regression model with many features leads to a mean absolute error of ~103. This is a big error comparing to the actual 'cnt' values"
   ]
  },
  {
   "cell_type": "markdown",
   "metadata": {},
   "source": [
    "## 5. Apply Desicion Trees Regression"
   ]
  },
  {
   "cell_type": "code",
   "execution_count": 41,
   "metadata": {
    "collapsed": false
   },
   "outputs": [
    {
     "name": "stdout",
     "output_type": "stream",
     "text": [
      "94.73964326812428\n"
     ]
    }
   ],
   "source": [
    "from sklearn.tree import DecisionTreeRegressor\n",
    "model2 = DecisionTreeRegressor()\n",
    "model2.fit(train[features], train[target])\n",
    "predictions2 = model2.predict(test[features])\n",
    "mae2 = mean_absolute_error(test[target], predictions2)\n",
    "print(mae2)\n"
   ]
  },
  {
   "cell_type": "markdown",
   "metadata": {},
   "source": [
    "### A simple desition tree regression model gives less error than the linear model"
   ]
  },
  {
   "cell_type": "code",
   "execution_count": 44,
   "metadata": {
    "collapsed": false
   },
   "outputs": [
    {
     "name": "stdout",
     "output_type": "stream",
     "text": [
      "Maximum depth: 2, Mean absolute error: 101.56584842965941\n",
      "Maximum depth: 3, Mean absolute error: 95.5131861942639\n",
      "Maximum depth: 4, Mean absolute error: 90.29330328284082\n",
      "Maximum depth: 5, Mean absolute error: 87.71000748166861\n",
      "Maximum depth: 6, Mean absolute error: 86.15555187248393\n",
      "Maximum depth: 7, Mean absolute error: 83.71412061327558\n",
      "Maximum depth: 8, Mean absolute error: 82.47926419732016\n",
      "Maximum depth: 9, Mean absolute error: 81.21105423100674\n",
      "Maximum depth: 10, Mean absolute error: 81.1120999288759\n",
      "Maximum depth: 11, Mean absolute error: 82.53097326717895\n",
      "Maximum depth: 12, Mean absolute error: 83.21640670923688\n",
      "Maximum depth: 13, Mean absolute error: 86.04382842997539\n",
      "Maximum depth: 14, Mean absolute error: 87.0627809326752\n",
      "Maximum depth: 15, Mean absolute error: 89.87589638146716\n",
      "Maximum depth: 16, Mean absolute error: 91.56049177645417\n",
      "Maximum depth: 17, Mean absolute error: 92.33019642031277\n",
      "Maximum depth: 18, Mean absolute error: 92.99720675847429\n",
      "Maximum depth: 19, Mean absolute error: 94.06392609903155\n",
      "Maximum depth: 20, Mean absolute error: 94.8741143155107\n"
     ]
    }
   ],
   "source": [
    "# test different parameters for the decision tree regressor\n",
    "\n",
    "for depth in range(2,21):\n",
    "    model2 = DecisionTreeRegressor(random_state=2, max_depth=depth)\n",
    "    model2.fit(train[features], train[target])\n",
    "    predictions2 = model2.predict(test[features])\n",
    "    mae2 = mean_absolute_error(test[target], predictions2)\n",
    "    print(\"Maximum depth: {}, Mean absolute error: {}\".format(depth, mae2))"
   ]
  },
  {
   "cell_type": "code",
   "execution_count": 47,
   "metadata": {
    "collapsed": false
   },
   "outputs": [
    {
     "name": "stdout",
     "output_type": "stream",
     "text": [
      "Min sample on a leaf: 2, Mean absolute error: 89.53304085155351\n",
      "Min sample on a leaf: 3, Mean absolute error: 87.33993985971834\n",
      "Min sample on a leaf: 4, Mean absolute error: 85.80188549144246\n",
      "Min sample on a leaf: 5, Mean absolute error: 84.61280653402346\n",
      "Min sample on a leaf: 6, Mean absolute error: 82.6413755987332\n",
      "Min sample on a leaf: 7, Mean absolute error: 82.13639813788691\n",
      "Min sample on a leaf: 8, Mean absolute error: 81.7194190087583\n",
      "Min sample on a leaf: 9, Mean absolute error: 80.57157806928774\n",
      "Min sample on a leaf: 10, Mean absolute error: 80.07922116151687\n",
      "Min sample on a leaf: 11, Mean absolute error: 80.03732848085545\n",
      "Min sample on a leaf: 12, Mean absolute error: 80.44649331612484\n",
      "Min sample on a leaf: 13, Mean absolute error: 80.63208739339431\n",
      "Min sample on a leaf: 14, Mean absolute error: 80.99882671848347\n",
      "Min sample on a leaf: 15, Mean absolute error: 81.1438445605358\n",
      "Min sample on a leaf: 16, Mean absolute error: 80.9100851494565\n",
      "Min sample on a leaf: 17, Mean absolute error: 80.7988402130793\n",
      "Min sample on a leaf: 18, Mean absolute error: 80.57678742953117\n",
      "Min sample on a leaf: 19, Mean absolute error: 80.40930851148707\n",
      "Min sample on a leaf: 20, Mean absolute error: 80.81939596658208\n",
      "Min sample on a leaf: 21, Mean absolute error: 80.84663736120069\n",
      "Min sample on a leaf: 22, Mean absolute error: 81.0864528167809\n",
      "Min sample on a leaf: 23, Mean absolute error: 81.04561023188036\n",
      "Min sample on a leaf: 24, Mean absolute error: 80.77869167759019\n",
      "Min sample on a leaf: 25, Mean absolute error: 80.70492104212265\n",
      "Min sample on a leaf: 26, Mean absolute error: 80.72134449453947\n",
      "Min sample on a leaf: 27, Mean absolute error: 80.58571040025186\n",
      "Min sample on a leaf: 28, Mean absolute error: 80.84069591888081\n",
      "Min sample on a leaf: 29, Mean absolute error: 80.46714993925882\n",
      "Min sample on a leaf: 30, Mean absolute error: 80.28485975376627\n",
      "Min sample on a leaf: 31, Mean absolute error: 80.20001887538761\n",
      "Min sample on a leaf: 32, Mean absolute error: 80.2440893647807\n",
      "Min sample on a leaf: 33, Mean absolute error: 80.35350165741878\n",
      "Min sample on a leaf: 34, Mean absolute error: 80.31920113806605\n",
      "Min sample on a leaf: 35, Mean absolute error: 80.59912697611077\n",
      "Min sample on a leaf: 36, Mean absolute error: 80.40768757036965\n",
      "Min sample on a leaf: 37, Mean absolute error: 80.39914984420997\n",
      "Min sample on a leaf: 38, Mean absolute error: 80.10887434262642\n",
      "Min sample on a leaf: 39, Mean absolute error: 80.0106116275411\n",
      "Min sample on a leaf: 40, Mean absolute error: 80.19787468585446\n",
      "Min sample on a leaf: 41, Mean absolute error: 80.33630693022515\n",
      "Min sample on a leaf: 42, Mean absolute error: 80.41583305013316\n",
      "Min sample on a leaf: 43, Mean absolute error: 80.44577049047425\n",
      "Min sample on a leaf: 44, Mean absolute error: 80.44236625869628\n",
      "Min sample on a leaf: 45, Mean absolute error: 80.52312786276168\n",
      "Min sample on a leaf: 46, Mean absolute error: 80.69687429497696\n",
      "Min sample on a leaf: 47, Mean absolute error: 81.08926000643726\n",
      "Min sample on a leaf: 48, Mean absolute error: 81.20209554507365\n",
      "Min sample on a leaf: 49, Mean absolute error: 81.34161531540944\n"
     ]
    }
   ],
   "source": [
    "for sample in range(2,50):\n",
    "    model3 = DecisionTreeRegressor(random_state=2, min_samples_leaf=sample)\n",
    "    model3.fit(train[features], train[target])\n",
    "    predictions3 = model3.predict(test[features])\n",
    "    mae3 = mean_absolute_error(test[target], predictions3)\n",
    "    print(\"Min sample on a leaf: {}, Mean absolute error: {}\".format(sample, mae3))"
   ]
  },
  {
   "cell_type": "code",
   "execution_count": 48,
   "metadata": {
    "collapsed": false
   },
   "outputs": [
    {
     "name": "stdout",
     "output_type": "stream",
     "text": [
      "Maximum depth: 20, Mean absolute error: 80.44782907871848\n"
     ]
    }
   ],
   "source": [
    "model4 = DecisionTreeRegressor(random_state=2, max_depth=10, min_samples_leaf=10)\n",
    "model4.fit(train[features], train[target])\n",
    "predictions4 = model4.predict(test[features])\n",
    "mae4 = mean_absolute_error(test[target], predictions4)\n",
    "print(\"Maximum depth: {}, Mean absolute error: {}\".format(depth, mae4))"
   ]
  },
  {
   "cell_type": "markdown",
   "metadata": {},
   "source": [
    "### With varying parameters in DecisionTreeRegressor, we can get the mean absolute error to as low as 80. "
   ]
  },
  {
   "cell_type": "markdown",
   "metadata": {},
   "source": [
    "## 5. Apply Random Forest algorithm"
   ]
  },
  {
   "cell_type": "code",
   "execution_count": 52,
   "metadata": {
    "collapsed": false
   },
   "outputs": [
    {
     "name": "stdout",
     "output_type": "stream",
     "text": [
      "Number of trees: 2, Mean absolute error: 79.3322209666147\n",
      "Number of trees: 3, Mean absolute error: 77.90040945472943\n",
      "Number of trees: 4, Mean absolute error: 77.50227397541137\n",
      "Number of trees: 5, Mean absolute error: 77.53764078620009\n",
      "Number of trees: 6, Mean absolute error: 77.12683834238513\n",
      "Number of trees: 7, Mean absolute error: 77.19798481570876\n",
      "Number of trees: 8, Mean absolute error: 76.77470902122998\n",
      "Number of trees: 9, Mean absolute error: 76.78337206242334\n",
      "Number of trees: 10, Mean absolute error: 76.78045309874634\n",
      "Number of trees: 11, Mean absolute error: 76.76402846231163\n",
      "Number of trees: 12, Mean absolute error: 76.8062786927154\n",
      "Number of trees: 13, Mean absolute error: 76.76326120227382\n",
      "Number of trees: 14, Mean absolute error: 76.65385692706528\n",
      "Number of trees: 15, Mean absolute error: 76.60075324510665\n",
      "Number of trees: 16, Mean absolute error: 76.63898121347243\n",
      "Number of trees: 17, Mean absolute error: 76.67385037547254\n",
      "Number of trees: 18, Mean absolute error: 76.57488029990421\n",
      "Number of trees: 19, Mean absolute error: 76.57412411670057\n"
     ]
    }
   ],
   "source": [
    "from sklearn.ensemble import RandomForestRegressor\n",
    "for n in range(2, 20):\n",
    "    model5 = RandomForestRegressor(n_estimators=n, bootstrap=True, random_state=2, max_depth=10, min_samples_leaf=10)\n",
    "    model5.fit(train[features], train[target])\n",
    "    predictions5 = model5.predict(test[features])\n",
    "    mae5 = mean_absolute_error(test[target], predictions5)\n",
    "    print(\"Number of trees: {}, Mean absolute error: {}\".format(n, mae5))"
   ]
  },
  {
   "cell_type": "markdown",
   "metadata": {},
   "source": [
    "### Inhereted max_depth and min_samples_leaf from previous decision trees tests. Here we further tested the number of trees in the emsemble and we can reduce the mean absolute error to ~76 with over 10 trees. "
   ]
  },
  {
   "cell_type": "code",
   "execution_count": null,
   "metadata": {
    "collapsed": true
   },
   "outputs": [],
   "source": []
  }
 ],
 "metadata": {
  "kernelspec": {
   "display_name": "Python 3",
   "language": "python",
   "name": "python3"
  },
  "language_info": {
   "codemirror_mode": {
    "name": "ipython",
    "version": 3
   },
   "file_extension": ".py",
   "mimetype": "text/x-python",
   "name": "python",
   "nbconvert_exporter": "python",
   "pygments_lexer": "ipython3",
   "version": "3.4.3"
  }
 },
 "nbformat": 4,
 "nbformat_minor": 0
}
